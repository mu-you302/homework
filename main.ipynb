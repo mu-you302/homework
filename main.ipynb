{
 "cells": [
  {
   "cell_type": "code",
   "execution_count": 1,
   "metadata": {},
   "outputs": [
    {
     "name": "stdout",
     "output_type": "stream",
     "text": [
      "labels:\n",
      "['alt.atheism', 'comp.graphics', 'rec.motorcycles', 'soc.religion.christian', 'talk.politics.misc']\n",
      "labels to index\n",
      "{'alt.atheism': 0, 'comp.graphics': 1, 'rec.motorcycles': 2, 'soc.religion.christian': 3, 'talk.politics.misc': 4}\n"
     ]
    }
   ],
   "source": [
    "import os\n",
    "labels = os.listdir(\"./dataset\")    # get all labels\n",
    "l2i = {labels[i]: i for i in range(len(labels))}    # label to index\n",
    "texts, y = [], []\n",
    "print(\"labels:\")\n",
    "print(labels)\n",
    "print(\"labels to index\")\n",
    "print(l2i)"
   ]
  },
  {
   "cell_type": "code",
   "execution_count": 2,
   "metadata": {},
   "outputs": [
    {
     "name": "stdout",
     "output_type": "stream",
     "text": [
      "number of documents 2726\n",
      "['from:', 'mathew', '<mathew@mantis.co.uk>', 'subject:', 'alt.atheism', 'faq:', 'atheist', 'resources', 'summary:', 'books,', 'addresses,', 'music', '--', 'anything', 'related', 'to', 'atheism', 'keywords:', 'faq,', 'atheism,', 'books,', 'music,', 'fiction,', 'addresses,', 'contacts', 'expires:', 'thu,', '29', 'apr', '1993', '11:57:19', 'gmt', 'distribution:', 'world', 'organization:', 'mantis', 'consultants,', 'cambridge.', 'uk.', 'supersedes:', '<19930301143317@mantis.co.uk>', 'lines:', '290', 'archive-name:', 'atheism/resources', 'alt-atheism-archive-name:', 'resources', 'last-modified:', '11', 'december', '1992', 'version:', '1.0', 'atheist', 'resources', 'addresses', 'of', 'atheist', 'organizations', 'usa', 'freedom', 'from', 'religion', 'foundation', 'darwin', 'fish', 'bumper', 'stickers', 'and', 'assorted', 'other', 'atheist', 'paraphernalia', 'are', 'available', 'from', 'the', 'freedom', 'from', 'religion', 'foundation', 'in', 'the', 'us.', 'write', 'to:', 'ffrf,', 'p.o.', 'box', '750,', 'madison,', 'wi', '53701.', 'telephone:', '(608)', '256-8900', 'evolution', 'designs', 'evolution', 'designs', 'sell', 'the', '\"darwin', 'fish\".', \"it's\", 'a', 'fish', 'symbol,', 'like', 'the', 'ones', 'christians', 'stick', 'on', 'their', 'cars,', 'but', 'with', 'feet', 'and', 'the', 'word', '\"darwin\"', 'written', 'inside.', 'the', 'deluxe', 'moulded', '3d', 'plastic', 'fish', 'is', '$4.95', 'postpaid', 'in', 'the', 'us.', 'write', 'to:', 'evolution', 'designs,', '7119', 'laurel', 'canyon', '#4,', 'north', 'hollywood,', 'ca', '91605.', 'people', 'in', 'the', 'san', 'francisco', 'bay', 'area', 'can', 'get', 'darwin', 'fish', 'from', 'lynn', 'gold', '--', 'try', 'mailing', '<figmo@netcom.com>.', 'for', 'net', 'people', 'who', 'go', 'to', 'lynn', 'directly,', 'the', 'price', 'is', '$4.95', 'per', 'fish.', 'american', 'atheist', 'press', 'aap', 'publish', 'various', 'atheist', 'books', '--', 'critiques', 'of', 'the', 'bible,', 'lists', 'of', 'biblical', 'contradictions,', 'and', 'so', 'on.', 'one', 'such', 'book', 'is:', '\"the', 'bible', 'handbook\"', 'by', 'w.p.', 'ball', 'and', 'g.w.', 'foote.', 'american', 'atheist', 'press.', '372', 'pp.', 'isbn', '0-910309-26-4,', '2nd', 'edition,', '1986.', 'bible', 'contradictions,', 'absurdities,', 'atrocities,', 'immoralities...', 'contains', 'ball,', 'foote:', '\"the', 'bible', 'contradicts', 'itself\",', 'aap.', 'based', 'on', 'the', 'king', 'james', 'version', 'of', 'the', 'bible.', 'write', 'to:', 'american', 'atheist', 'press,', 'p.o.', 'box', '140195,', 'austin,', 'tx', '78714-0195.', 'or:', '7215', 'cameron', 'road,', 'austin,', 'tx', '78752-2973.', 'telephone:', '(512)', '458-1244', 'fax:', '(512)', '467-9525', 'prometheus', 'books', 'sell', 'books', 'including', \"haught's\", '\"holy', 'horrors\"', '(see', 'below).', 'write', 'to:', '700', 'east', 'amherst', 'street,', 'buffalo,', 'new', 'york', '14215.', 'telephone:', '(716)', '837-2475.', 'an', 'alternate', 'address', '(which', 'may', 'be', 'newer', 'or', 'older)', 'is:', 'prometheus', 'books,', '59', 'glenn', 'drive,', 'buffalo,', 'ny', '14228-2197.', 'african-americans', 'for', 'humanism', 'an', 'organization', 'promoting', 'black', 'secular', 'humanism', 'and', 'uncovering', 'the', 'history', 'of', 'black', 'freethought.', 'they', 'publish', 'a', 'quarterly', 'newsletter,', 'aah', 'examiner.', 'write', 'to:', 'norm', 'r.', 'allen,', 'jr.,', 'african', 'americans', 'for', 'humanism,', 'p.o.', 'box', '664,', 'buffalo,', 'ny', '14226.', 'united', 'kingdom', 'rationalist', 'press', 'association', 'national', 'secular', 'society', '88', 'islington', 'high', 'street', '702', 'holloway', 'road', 'london', 'n1', '8ew', 'london', 'n19', '3nl', '071', '226', '7251', '071', '272', '1266', 'british', 'humanist', 'association', 'south', 'place', 'ethical', 'society', '14', \"lamb's\", 'conduit', 'passage', 'conway', 'hall', 'london', 'wc1r', '4rh', 'red', 'lion', 'square', '071', '430', '0908', 'london', 'wc1r', '4rl', 'fax', '071', '430', '1271', '071', '831', '7723', 'the', 'national', 'secular', 'society', 'publish', '\"the', 'freethinker\",', 'a', 'monthly', 'magazine', 'founded', 'in', '1881.', 'germany', 'ibka', 'e.v.', 'internationaler', 'bund', 'der', 'konfessionslosen', 'und', 'atheisten', 'postfach', '880,', 'd-1000', 'berlin', '41.', 'germany.', 'ibka', 'publish', 'a', 'journal:', 'miz.', '(materialien', 'und', 'informationen', 'zur', 'zeit.', 'politisches', 'journal', 'der', 'konfessionslosesn', 'und', 'atheisten.', 'hrsg.', 'ibka', 'e.v.)', 'miz-vertrieb,', 'postfach', '880,', 'd-1000', 'berlin', '41.', 'germany.', 'for', 'atheist', 'books,', 'write', 'to:', 'ibdk,', 'internationaler', 'b\"ucherdienst', 'der', 'konfessionslosen', 'postfach', '3005,', 'd-3000', 'hannover', '1.', 'germany.', 'telephone:', '0511/211216', 'books', '--', 'fiction', 'thomas', 'm.', 'disch', '\"the', 'santa', 'claus', 'compromise\"', 'short', 'story.', 'the', 'ultimate', 'proof', 'that', 'santa', 'exists.', 'all', 'characters', 'and', 'events', 'are', 'fictitious.', 'any', 'similarity', 'to', 'living', 'or', 'dead', 'gods', '--', 'uh,', 'well...', 'walter', 'm.', 'miller,', 'jr', '\"a', 'canticle', 'for', 'leibowitz\"', 'one', 'gem', 'in', 'this', 'post', 'atomic', 'doomsday', 'novel', 'is', 'the', 'monks', 'who', 'spent', 'their', 'lives', 'copying', 'blueprints', 'from', '\"saint', 'leibowitz\",', 'filling', 'the', 'sheets', 'of', 'paper', 'with', 'ink', 'and', 'leaving', 'white', 'lines', 'and', 'letters.', 'edgar', 'pangborn', '\"davy\"', 'post', 'atomic', 'doomsday', 'novel', 'set', 'in', 'clerical', 'states.', 'the', 'church,', 'for', 'example,', 'forbids', 'that', 'anyone', '\"produce,', 'describe', 'or', 'use', 'any', 'substance', 'containing...', 'atoms\".', 'philip', 'k.', 'dick', 'philip', 'k.', 'dick', 'dick', 'wrote', 'many', 'philosophical', 'and', 'thought-provoking', 'short', 'stories', 'and', 'novels.', 'his', 'stories', 'are', 'bizarre', 'at', 'times,', 'but', 'very', 'approachable.', 'he', 'wrote', 'mainly', 'sf,', 'but', 'he', 'wrote', 'about', 'people,', 'truth', 'and', 'religion', 'rather', 'than', 'technology.', 'although', 'he', 'often', 'believed', 'that', 'he', 'had', 'met', 'some', 'sort', 'of', 'god,', 'he', 'remained', 'sceptical.', 'amongst', 'his', 'novels,', 'the', 'following', 'are', 'of', 'some', 'relevance:', '\"galactic', 'pot-healer\"', 'a', 'fallible', 'alien', 'deity', 'summons', 'a', 'group', 'of', 'earth', 'craftsmen', 'and', 'women', 'to', 'a', 'remote', 'planet', 'to', 'raise', 'a', 'giant', 'cathedral', 'from', 'beneath', 'the', 'oceans.', 'when', 'the', 'deity', 'begins', 'to', 'demand', 'faith', 'from', 'the', 'earthers,', 'pot-healer', 'joe', 'fernwright', 'is', 'unable', 'to', 'comply.', 'a', 'polished,', 'ironic', 'and', 'amusing', 'novel.', '\"a', 'maze', 'of', 'death\"', 'noteworthy', 'for', 'its', 'description', 'of', 'a', 'technology-based', 'religion.', '\"valis\"', 'the', 'schizophrenic', 'hero', 'searches', 'for', 'the', 'hidden', 'mysteries', 'of', 'gnostic', 'christianity', 'after', 'reality', 'is', 'fired', 'into', 'his', 'brain', 'by', 'a', 'pink', 'laser', 'beam', 'of', 'unknown', 'but', 'possibly', 'divine', 'origin.', 'he', 'is', 'accompanied', 'by', 'his', 'dogmatic', 'and', 'dismissively', 'atheist', 'friend', 'and', 'assorted', 'other', 'odd', 'characters.', '\"the', 'divine', 'invasion\"', 'god', 'invades', 'earth', 'by', 'making', 'a', 'young', 'woman', 'pregnant', 'as', 'she', 'returns', 'from', 'another', 'star', 'system.', 'unfortunately', 'she', 'is', 'terminally', 'ill,', 'and', 'must', 'be', 'assisted', 'by', 'a', 'dead', 'man', 'whose', 'brain', 'is', 'wired', 'to', '24-hour', 'easy', 'listening', 'music.', 'margaret', 'atwood', '\"the', \"handmaid's\", 'tale\"', 'a', 'story', 'based', 'on', 'the', 'premise', 'that', 'the', 'us', 'congress', 'is', 'mysteriously', 'assassinated,', 'and', 'fundamentalists', 'quickly', 'take', 'charge', 'of', 'the', 'nation', 'to', 'set', 'it', '\"right\"', 'again.', 'the', 'book', 'is', 'the', 'diary', 'of', 'a', \"woman's\", 'life', 'as', 'she', 'tries', 'to', 'live', 'under', 'the', 'new', 'christian', 'theocracy.', \"women's\", 'right', 'to', 'own', 'property', 'is', 'revoked,', 'and', 'their', 'bank', 'accounts', 'are', 'closed;', 'sinful', 'luxuries', 'are', 'outlawed,', 'and', 'the', 'radio', 'is', 'only', 'used', 'for', 'readings', 'from', 'the', 'bible.', 'crimes', 'are', 'punished', 'retroactively:', 'doctors', 'who', 'performed', 'legal', 'abortions', 'in', 'the', '\"old', 'world\"', 'are', 'hunted', 'down', 'and', 'hanged.', \"atwood's\", 'writing', 'style', 'is', 'difficult', 'to', 'get', 'used', 'to', 'at', 'first,', 'but', 'the', 'tale', 'grows', 'more', 'and', 'more', 'chilling', 'as', 'it', 'goes', 'on.', 'various', 'authors', '\"the', 'bible\"', 'this', 'somewhat', 'dull', 'and', 'rambling', 'work', 'has', 'often', 'been', 'criticized.', 'however,', 'it', 'is', 'probably', 'worth', 'reading,', 'if', 'only', 'so', 'that', \"you'll\", 'know', 'what', 'all', 'the', 'fuss', 'is', 'about.', 'it', 'exists', 'in', 'many', 'different', 'versions,', 'so', 'make', 'sure', 'you', 'get', 'the', 'one', 'true', 'version.', 'books', '--', 'non-fiction', 'peter', 'de', 'rosa', '\"vicars', 'of', 'christ\",', 'bantam', 'press,', '1988', 'although', 'de', 'rosa', 'seems', 'to', 'be', 'christian', 'or', 'even', 'catholic', 'this', 'is', 'a', 'very', 'enlighting', 'history', 'of', 'papal', 'immoralities,', 'adulteries,', 'fallacies', 'etc.', '(german', 'translation:', '\"gottes', 'erste', 'diener.', 'die', 'dunkle', 'seite', 'des', 'papsttums\",', 'droemer-knaur,', '1989)', 'michael', 'martin', '\"atheism:', 'a', 'philosophical', 'justification\",', 'temple', 'university', 'press,', 'philadelphia,', 'usa.', 'a', 'detailed', 'and', 'scholarly', 'justification', 'of', 'atheism.', 'contains', 'an', 'outstanding', 'appendix', 'defining', 'terminology', 'and', 'usage', 'in', 'this', '(necessarily)', 'tendentious', 'area.', 'argues', 'both', 'for', '\"negative', 'atheism\"', '(i.e.', 'the', '\"non-belief', 'in', 'the', 'existence', 'of', 'god(s)\")', 'and', 'also', 'for', '\"positive', 'atheism\"', '(\"the', 'belief', 'in', 'the', 'non-existence', 'of', 'god(s)\").', 'includes', 'great', 'refutations', 'of', 'the', 'most', 'challenging', 'arguments', 'for', 'god;', 'particular', 'attention', 'is', 'paid', 'to', 'refuting', 'contempory', 'theists', 'such', 'as', 'platinga', 'and', 'swinburne.', '541', 'pages.', 'isbn', '0-87722-642-3', '(hardcover;', 'paperback', 'also', 'available)', '\"the', 'case', 'against', 'christianity\",', 'temple', 'university', 'press', 'a', 'comprehensive', 'critique', 'of', 'christianity,', 'in', 'which', 'he', 'considers', 'the', 'best', 'contemporary', 'defences', 'of', 'christianity', 'and', '(ultimately)', 'demonstrates', 'that', 'they', 'are', 'unsupportable', 'and/or', 'incoherent.', '273', 'pages.', 'isbn', '0-87722-767-5', 'james', 'turner', '\"without', 'god,', 'without', 'creed\",', 'the', 'johns', 'hopkins', 'university', 'press,', 'baltimore,', 'md,', 'usa', 'subtitled', '\"the', 'origins', 'of', 'unbelief', 'in', 'america\".', 'examines', 'the', 'way', 'in', 'which', 'unbelief', '(whether', 'agnostic', 'or', 'atheistic)', 'became', 'a', 'mainstream', 'alternative', 'world-view.', 'focusses', 'on', 'the', 'period', '1770-1900,', 'and', 'while', 'considering', 'france', 'and', 'britain', 'the', 'emphasis', 'is', 'on', 'american,', 'and', 'particularly', 'new', 'england', 'developments.', '\"neither', 'a', 'religious', 'history', 'of', 'secularization', 'or', 'atheism,', 'without', 'god,', 'without', 'creed', 'is,', 'rather,', 'the', 'intellectual', 'history', 'of', 'the', 'fate', 'of', 'a', 'single', 'idea,', 'the', 'belief', 'that', 'god', 'exists.\"', '316', 'pages.', 'isbn', '(hardcover)', '0-8018-2494-x', '(paper)', '0-8018-3407-4', 'george', 'seldes', '(editor)', '\"the', 'great', 'thoughts\",', 'ballantine', 'books,', 'new', 'york,', 'usa', 'a', '\"dictionary', 'of', 'quotations\"', 'of', 'a', 'different', 'kind,', 'concentrating', 'on', 'statements', 'and', 'writings', 'which,', 'explicitly', 'or', 'implicitly,', 'present', 'the', \"person's\", 'philosophy', 'and', 'world-view.', 'includes', 'obscure', '(and', 'often', 'suppressed)', 'opinions', 'from', 'many', 'people.', 'for', 'some', 'popular', 'observations,', 'traces', 'the', 'way', 'in', 'which', 'various', 'people', 'expressed', 'and', 'twisted', 'the', 'idea', 'over', 'the', 'centuries.', 'quite', 'a', 'number', 'of', 'the', 'quotations', 'are', 'derived', 'from', \"cardiff's\", '\"what', 'great', 'men', 'think', 'of', 'religion\"', 'and', \"noyes'\", '\"views', 'of', 'religion\".', '490', 'pages.', 'isbn', '(paper)', '0-345-29887-x.', 'richard', 'swinburne', '\"the', 'existence', 'of', 'god', '(revised', 'edition)\",', 'clarendon', 'paperbacks,', 'oxford', 'this', 'book', 'is', 'the', 'second', 'volume', 'in', 'a', 'trilogy', 'that', 'began', 'with', '\"the', 'coherence', 'of', 'theism\"', '(1977)', 'and', 'was', 'concluded', 'with', '\"faith', 'and', 'reason\"', '(1981).', 'in', 'this', 'work,', 'swinburne', 'attempts', 'to', 'construct', 'a', 'series', 'of', 'inductive', 'arguments', 'for', 'the', 'existence', 'of', 'god.', 'his', 'arguments,', 'which', 'are', 'somewhat', 'tendentious', 'and', 'rely', 'upon', 'the', 'imputation', 'of', 'late', '20th', 'century', 'western', 'christian', 'values', 'and', 'aesthetics', 'to', 'a', 'god', 'which', 'is', 'supposedly', 'as', 'simple', 'as', 'can', 'be', 'conceived,', 'were', 'decisively', 'rejected', 'in', \"mackie's\", '\"the', 'miracle', 'of', 'theism\".', 'in', 'the', 'revised', 'edition', 'of', '\"the', 'existence', 'of', 'god\",', 'swinburne', 'includes', 'an', 'appendix', 'in', 'which', 'he', 'makes', 'a', 'somewhat', 'incoherent', 'attempt', 'to', 'rebut', 'mackie.', 'j.', 'l.', 'mackie', '\"the', 'miracle', 'of', 'theism\",', 'oxford', 'this', '(posthumous)', 'volume', 'contains', 'a', 'comprehensive', 'review', 'of', 'the', 'principal', 'arguments', 'for', 'and', 'against', 'the', 'existence', 'of', 'god.', 'it', 'ranges', 'from', 'the', 'classical', 'philosophical', 'positions', 'of', 'descartes,', 'anselm,', 'berkeley,', 'hume', 'et', 'al,', 'through', 'the', 'moral', 'arguments', 'of', 'newman,', 'kant', 'and', 'sidgwick,', 'to', 'the', 'recent', 'restatements', 'of', 'the', 'classical', 'theses', 'by', 'plantinga', 'and', 'swinburne.', 'it', 'also', 'addresses', 'those', 'positions', 'which', 'push', 'the', 'concept', 'of', 'god', 'beyond', 'the', 'realm', 'of', 'the', 'rational,', 'such', 'as', 'those', 'of', 'kierkegaard,', 'kung', 'and', 'philips,', 'as', 'well', 'as', '\"replacements', 'for', 'god\"', 'such', 'as', \"lelie's\", 'axiarchism.', 'the', 'book', 'is', 'a', 'delight', 'to', 'read', '-', 'less', 'formalistic', 'and', 'better', 'written', 'than', \"martin's\", 'works,', 'and', 'refreshingly', 'direct', 'when', 'compared', 'with', 'the', 'hand-waving', 'of', 'swinburne.', 'james', 'a.', 'haught', '\"holy', 'horrors:', 'an', 'illustrated', 'history', 'of', 'religious', 'murder', 'and', 'madness\",', 'prometheus', 'books', 'looks', 'at', 'religious', 'persecution', 'from', 'ancient', 'times', 'to', 'the', 'present', 'day', '--', 'and', 'not', 'only', 'by', 'christians.', 'library', 'of', 'congress', 'catalog', 'card', 'number', '89-64079.', '1990.', 'norm', 'r.', 'allen,', 'jr.', '\"african', 'american', 'humanism:', 'an', 'anthology\"', 'see', 'the', 'listing', 'for', 'african', 'americans', 'for', 'humanism', 'above.', 'gordon', 'stein', '\"an', 'anthology', 'of', 'atheism', 'and', 'rationalism\",', 'prometheus', 'books', 'an', 'anthology', 'covering', 'a', 'wide', 'range', 'of', 'subjects,', 'including', \"'the\", 'devil,', 'evil', 'and', \"morality'\", 'and', \"'the\", 'history', 'of', \"freethought'.\", 'comprehensive', 'bibliography.', 'edmund', 'd.', 'cohen', '\"the', 'mind', 'of', 'the', 'bible-believer\",', 'prometheus', 'books', 'a', 'study', 'of', 'why', 'people', 'become', 'christian', 'fundamentalists,', 'and', 'what', 'effect', 'it', 'has', 'on', 'them.', 'net', 'resources', \"there's\", 'a', 'small', 'mail-based', 'archive', 'server', 'at', 'mantis.co.uk', 'which', 'carries', 'archives', 'of', 'old', 'alt.atheism.moderated', 'articles', 'and', 'assorted', 'other', 'files.', 'for', 'more', 'information,', 'send', 'mail', 'to', 'archive-server@mantis.co.uk', 'saying', 'help', 'send', 'atheism/index', 'and', 'it', 'will', 'mail', 'back', 'a', 'reply.', 'mathew', 'ÿ']\n",
      "0\n"
     ]
    }
   ],
   "source": [
    "import codecs\n",
    "\n",
    "for l in labels:\n",
    "    files = os.listdir(f\"dataset/{l}\")\n",
    "    for f in files:\n",
    "        path = f\"dataset/{l}/{f}\"\n",
    "        # read txt file\n",
    "        file = codecs.open(path, 'r', 'Latin1') # use Latin1 encoding\n",
    "        content = file.read()\n",
    "        # split into words\n",
    "        content = content.lower().split()\n",
    "        texts.append(content)\n",
    "        y.append(l2i[l])    # numerical label\n",
    "print(\"number of documents\", len(texts))\n",
    "print(texts[0])\n",
    "print(y[0])"
   ]
  },
  {
   "cell_type": "code",
   "execution_count": 3,
   "metadata": {},
   "outputs": [
    {
     "name": "stdout",
     "output_type": "stream",
     "text": [
      "number of stopwords 851\n",
      "before removing stopwords: 1704\n",
      "after removing stopwords: 941\n",
      "['mathew', 'mathew', 'mantis', 'uk', 'subject', 'alt', 'atheism', 'faq', 'atheist', 'resources', 'summary', 'books', 'addresses', 'music', 'atheism', 'keywords', 'faq', 'atheism', 'books', 'music', 'fiction', 'addresses', 'contacts', 'expires', 'thu', 'apr', 'gmt', 'distribution', 'organization', 'mantis', 'consultants', 'cambridge', 'uk', 'supersedes', 'mantis', 'uk', 'lines', 'archive', 'atheism', 'resources', 'alt', 'atheism', 'archive', 'resources', 'modified', 'december', 'version', 'atheist', 'resources', 'addresses', 'atheist', 'organizations', 'usa', 'freedom', 'religion', 'foundation', 'darwin', 'fish', 'bumper', 'stickers', 'assorted', 'atheist', 'paraphernalia', 'freedom', 'religion', 'foundation', 'write', 'ffrf', 'box', 'madison', 'wi', 'telephone', 'evolution', 'designs', 'evolution', 'designs', 'sell', 'darwin', 'fish', 'fish', 'symbol', 'christians', 'stick', 'cars', 'feet', 'word', 'darwin', 'written', 'deluxe', 'moulded', 'plastic', 'fish', 'postpaid', 'write', 'evolution', 'designs', 'laurel', 'canyon', 'north', 'hollywood', 'people', 'san', 'francisco', 'bay', 'area', 'darwin', 'fish', 'lynn', 'gold', 'mailing', 'figmo', 'netcom', 'net', 'people', 'lynn', 'price', 'fish', 'american', 'atheist', 'press', 'aap', 'publish', 'atheist', 'books', 'critiques', 'bible', 'lists', 'biblical', 'contradictions', 'book', 'bible', 'handbook', 'ball', 'foote', 'american', 'atheist', 'press', 'isbn', 'edition', 'bible', 'contradictions', 'absurdities', 'atrocities', 'immoralities', 'ball', 'foote', 'bible', 'contradicts', 'aap', 'based', 'king', 'james', 'version', 'bible', 'write', 'american', 'atheist', 'press', 'box', 'austin', 'tx', 'cameron', 'road', 'austin', 'tx', 'telephone', 'fax', 'prometheus', 'books', 'sell', 'books', 'including', 'haught', 'holy', 'horrors', 'write', 'east', 'amherst', 'street', 'buffalo', 'york', 'telephone', 'alternate', 'address', 'newer', 'older', 'prometheus', 'books', 'glenn', 'drive', 'buffalo', 'ny', 'african', 'americans', 'humanism', 'organization', 'promoting', 'black', 'secular', 'humanism', 'uncovering', 'history', 'black', 'freethought', 'publish', 'quarterly', 'newsletter', 'aah', 'examiner', 'write', 'norm', 'allen', 'jr', 'african', 'americans', 'humanism', 'box', 'buffalo', 'ny', 'united', 'kingdom', 'rationalist', 'press', 'association', 'national', 'secular', 'society', 'islington', 'high', 'street', 'holloway', 'road', 'london', 'ew', 'london', 'nl', 'british', 'humanist', 'association', 'south', 'place', 'ethical', 'society', 'lamb', 'conduit', 'passage', 'conway', 'hall', 'london', 'wc', 'rh', 'red', 'lion', 'square', 'london', 'wc', 'rl', 'fax', 'national', 'secular', 'society', 'publish', 'freethinker', 'monthly', 'magazine', 'founded', 'germany', 'ibka', 'internationaler', 'bund', 'der', 'konfessionslosen', 'und', 'atheisten', 'postfach', 'berlin', 'germany', 'ibka', 'publish', 'journal', 'miz', 'materialien', 'und', 'informationen', 'zur', 'zeit', 'politisches', 'journal', 'der', 'konfessionslosesn', 'und', 'atheisten', 'hrsg', 'ibka', 'miz', 'vertrieb', 'postfach', 'berlin', 'germany', 'atheist', 'books', 'write', 'ibdk', 'internationaler', 'ucherdienst', 'der', 'konfessionslosen', 'postfach', 'hannover', 'germany', 'telephone', 'books', 'fiction', 'thomas', 'disch', 'santa', 'claus', 'compromise', 'short', 'story', 'ultimate', 'proof', 'santa', 'exists', 'characters', 'events', 'fictitious', 'similarity', 'living', 'dead', 'gods', 'uh', 'walter', 'miller', 'jr', 'canticle', 'leibowitz', 'gem', 'post', 'atomic', 'doomsday', 'monks', 'spent', 'lives', 'copying', 'blueprints', 'saint', 'leibowitz', 'filling', 'sheets', 'paper', 'ink', 'leaving', 'white', 'lines', 'letters', 'edgar', 'pangborn', 'davy', 'post', 'atomic', 'doomsday', 'set', 'clerical', 'church', 'forbids', 'produce', 'substance', 'atoms', 'philip', 'dick', 'philip', 'dick', 'dick', 'wrote', 'philosophical', 'thought', 'provoking', 'short', 'stories', 'novels', 'stories', 'bizarre', 'times', 'approachable', 'wrote', 'sf', 'wrote', 'people', 'truth', 'religion', 'technology', 'believed', 'met', 'sort', 'god', 'remained', 'sceptical', 'novels', 'relevance', 'galactic', 'pot', 'healer', 'fallible', 'alien', 'deity', 'summons', 'group', 'earth', 'craftsmen', 'women', 'remote', 'planet', 'raise', 'giant', 'cathedral', 'beneath', 'oceans', 'deity', 'demand', 'faith', 'earthers', 'pot', 'healer', 'joe', 'fernwright', 'unable', 'comply', 'polished', 'ironic', 'amusing', 'maze', 'death', 'noteworthy', 'description', 'technology', 'based', 'religion', 'valis', 'schizophrenic', 'hero', 'searches', 'hidden', 'mysteries', 'gnostic', 'christianity', 'reality', 'fired', 'brain', 'pink', 'laser', 'beam', 'unknown', 'divine', 'origin', 'accompanied', 'dogmatic', 'dismissively', 'atheist', 'friend', 'assorted', 'odd', 'characters', 'divine', 'invasion', 'god', 'invades', 'earth', 'making', 'young', 'woman', 'pregnant', 'returns', 'star', 'terminally', 'ill', 'assisted', 'dead', 'man', 'brain', 'wired', 'hour', 'easy', 'listening', 'music', 'margaret', 'atwood', 'handmaid', 'tale', 'story', 'based', 'premise', 'congress', 'mysteriously', 'assassinated', 'fundamentalists', 'charge', 'nation', 'set', 'book', 'diary', 'woman', 'life', 'live', 'christian', 'theocracy', 'women', 'property', 'revoked', 'bank', 'accounts', 'closed', 'sinful', 'luxuries', 'outlawed', 'radio', 'readings', 'bible', 'crimes', 'punished', 'retroactively', 'doctors', 'performed', 'legal', 'abortions', 'hunted', 'hanged', 'atwood', 'writing', 'style', 'difficult', 'tale', 'grows', 'chilling', 'authors', 'bible', 'dull', 'rambling', 'work', 'criticized', 'worth', 'reading', 'll', 'fuss', 'exists', 'versions', 'true', 'version', 'books', 'fiction', 'peter', 'rosa', 'vicars', 'christ', 'bantam', 'press', 'rosa', 'christian', 'catholic', 'enlighting', 'history', 'papal', 'immoralities', 'adulteries', 'fallacies', 'german', 'translation', 'gottes', 'erste', 'diener', 'die', 'dunkle', 'seite', 'des', 'papsttums', 'droemer', 'knaur', 'michael', 'martin', 'atheism', 'philosophical', 'justification', 'temple', 'university', 'press', 'philadelphia', 'usa', 'detailed', 'scholarly', 'justification', 'atheism', 'outstanding', 'appendix', 'defining', 'terminology', 'usage', 'tendentious', 'area', 'argues', 'negative', 'atheism', 'belief', 'existence', 'god', 'positive', 'atheism', 'belief', 'existence', 'god', 'includes', 'great', 'refutations', 'challenging', 'arguments', 'god', 'attention', 'paid', 'refuting', 'contempory', 'theists', 'platinga', 'swinburne', 'isbn', 'hardcover', 'paperback', 'case', 'christianity', 'temple', 'university', 'press', 'comprehensive', 'critique', 'christianity', 'considers', 'contemporary', 'defences', 'christianity', 'ultimately', 'demonstrates', 'unsupportable', 'incoherent', 'isbn', 'james', 'turner', 'god', 'creed', 'johns', 'hopkins', 'university', 'press', 'baltimore', 'md', 'usa', 'subtitled', 'origins', 'unbelief', 'america', 'examines', 'unbelief', 'agnostic', 'atheistic', 'mainstream', 'alternative', 'view', 'focusses', 'period', 'france', 'britain', 'emphasis', 'american', 'england', 'developments', 'religious', 'history', 'secularization', 'atheism', 'god', 'creed', 'intellectual', 'history', 'fate', 'single', 'idea', 'belief', 'god', 'exists', 'isbn', 'hardcover', 'paper', 'george', 'seldes', 'editor', 'great', 'thoughts', 'ballantine', 'books', 'york', 'usa', 'dictionary', 'quotations', 'kind', 'concentrating', 'statements', 'writings', 'explicitly', 'implicitly', 'person', 'philosophy', 'view', 'includes', 'obscure', 'suppressed', 'opinions', 'people', 'popular', 'observations', 'traces', 'people', 'expressed', 'twisted', 'idea', 'centuries', 'number', 'quotations', 'derived', 'cardiff', 'great', 'men', 'religion', 'noyes', 'views', 'religion', 'isbn', 'paper', 'richard', 'swinburne', 'existence', 'god', 'revised', 'edition', 'clarendon', 'paperbacks', 'oxford', 'book', 'volume', 'trilogy', 'began', 'coherence', 'theism', 'concluded', 'faith', 'reason', 'work', 'swinburne', 'attempts', 'construct', 'series', 'inductive', 'arguments', 'existence', 'god', 'arguments', 'tendentious', 'rely', 'imputation', 'late', 'century', 'western', 'christian', 'values', 'aesthetics', 'god', 'supposedly', 'simple', 'conceived', 'decisively', 'rejected', 'mackie', 'miracle', 'theism', 'revised', 'edition', 'existence', 'god', 'swinburne', 'includes', 'appendix', 'incoherent', 'attempt', 'rebut', 'mackie', 'mackie', 'miracle', 'theism', 'oxford', 'posthumous', 'volume', 'comprehensive', 'review', 'principal', 'arguments', 'existence', 'god', 'ranges', 'classical', 'philosophical', 'positions', 'descartes', 'anselm', 'berkeley', 'hume', 'al', 'moral', 'arguments', 'newman', 'kant', 'sidgwick', 'restatements', 'classical', 'theses', 'plantinga', 'swinburne', 'addresses', 'positions', 'push', 'concept', 'god', 'realm', 'rational', 'kierkegaard', 'kung', 'philips', 'replacements', 'god', 'lelie', 'axiarchism', 'book', 'delight', 'read', 'formalistic', 'written', 'martin', 'works', 'refreshingly', 'direct', 'compared', 'hand', 'waving', 'swinburne', 'james', 'haught', 'holy', 'horrors', 'illustrated', 'history', 'religious', 'murder', 'madness', 'prometheus', 'books', 'religious', 'persecution', 'ancient', 'times', 'day', 'christians', 'library', 'congress', 'catalog', 'card', 'number', 'norm', 'allen', 'jr', 'african', 'american', 'humanism', 'anthology', 'listing', 'african', 'americans', 'humanism', 'gordon', 'stein', 'anthology', 'atheism', 'rationalism', 'prometheus', 'books', 'anthology', 'covering', 'wide', 'range', 'subjects', 'including', 'devil', 'evil', 'morality', 'history', 'freethought', 'comprehensive', 'bibliography', 'edmund', 'cohen', 'mind', 'bible', 'believer', 'prometheus', 'books', 'study', 'people', 'christian', 'fundamentalists', 'net', 'resources', 'small', 'mail', 'based', 'archive', 'server', 'mantis', 'uk', 'carries', 'archives', 'alt', 'atheism', 'moderated', 'articles', 'assorted', 'files', 'send', 'mail', 'archive', 'server', 'mantis', 'uk', 'send', 'atheism', 'mail', 'reply', 'mathew']\n"
     ]
    }
   ],
   "source": [
    "import re\n",
    "# load stopwords from txt file\n",
    "with open(r\"stopwords.txt\", \"r\", encoding=\"utf-8\") as fp:\n",
    "    stopwords = fp.read().splitlines()\n",
    "stopwords = set(stopwords)\n",
    "print(\"number of stopwords\", len(stopwords))\n",
    "print(\"before removing stopwords:\", len(texts[0]))\n",
    "texts_rs = []\n",
    "for text in texts:\n",
    "    # remove non-alphabetic characters\n",
    "    text_rs = []\n",
    "    for word in text:\n",
    "        word = re.sub(r\"[^a-z]\", \" \", word).strip()\n",
    "        if word != \"\":\n",
    "            text_rs.extend(word.split())\n",
    "    text_rs = [w for w in text_rs if w not in stopwords]\n",
    "    texts_rs.append(text_rs)\n",
    "print(\"after removing stopwords:\", len(texts_rs[0]))\n",
    "print(texts_rs[0])"
   ]
  },
  {
   "cell_type": "code",
   "execution_count": 4,
   "metadata": {},
   "outputs": [
    {
     "name": "stdout",
     "output_type": "stream",
     "text": [
      "length of text: 941\n",
      "change of stemming: 456\n"
     ]
    }
   ],
   "source": [
    "from nltk.stem import SnowballStemmer\n",
    "\n",
    "stemmer = SnowballStemmer(\"english\")    # Snowball stemmer\n",
    "\n",
    "texts_stem = []\n",
    "for t in texts_rs:\n",
    "    texts_stem.append([stemmer.stem(w) for w in t])\n",
    "\n",
    "t1, t2 = texts_rs[0], texts_stem[0]\n",
    "print(\"length of text:\", len(t1))\n",
    "print(\"change of stemming:\", len([i for i in range(len(t1)) if t1[i] != t2[i]]))"
   ]
  },
  {
   "cell_type": "code",
   "execution_count": 5,
   "metadata": {},
   "outputs": [],
   "source": [
    "import numpy as np\n",
    "class TfIdfTokenizer:\n",
    "    def __init__(self) -> None:\n",
    "        self.document_freq = {}  # word to document frequency\n",
    "        self.vocab_table = {}   # word to idx table\n",
    "        self.num_docs = 0   # number of documents\n",
    "        self.dims = 0   # total word num\n",
    "\n",
    "    def update_vocab(self, docs):\n",
    "        for doc in docs:\n",
    "            self.num_docs += 1\n",
    "            words = set(doc)    # keep unique words\n",
    "            for w in words:\n",
    "                # for a word, count the num of documents that contain it\n",
    "                self.document_freq[w] = self.document_freq.get(w, 0) + 1\n",
    "        self.vocab_table = {w: i for i, w in enumerate(\n",
    "            self.document_freq.keys())}  # word to index table\n",
    "        self.dims = len(self.document_freq)  # number of unique words\n",
    "\n",
    "    def _idfs(self):\n",
    "        # convert dict value to array\n",
    "        doc_freq = np.array(list(self.document_freq.values()))\n",
    "        # calculate idf\n",
    "        return np.log(self.num_docs / (doc_freq))\n",
    "\n",
    "    def fit(self, docs):\n",
    "        self.update_vocab(docs)  # update documents info\n",
    "        idfs = self._idfs()  # calculate idf\n",
    "        word_freq = np.zeros((self.num_docs, self.dims)\n",
    "                             )    # word frequency array\n",
    "\n",
    "        for i, doc in enumerate(docs):\n",
    "            for word in doc:\n",
    "                word_freq[i, self.vocab_table[word]] += 1   # count\n",
    "        # calculate frequency\n",
    "        tf = word_freq / word_freq.sum(axis=1, keepdims=True)\n",
    "\n",
    "        tf_idf = np.log(tf + 1) * idfs  # calculate tf-idf\n",
    "        # normalize the representation\n",
    "        tf_idf = tf_idf / np.sum(tf_idf**2, axis=1, keepdims=True)**0.5\n",
    "        \n",
    "        # print(np.sum(tf_idf == 0)/tf_idf.size)\n",
    "        # print(self.dims)\n",
    "\n",
    "        return tf_idf\n",
    "\n",
    "    def __str__(self):\n",
    "        return f\"dims: {self.dims}, num_docs: {self.num_docs}\""
   ]
  },
  {
   "cell_type": "code",
   "execution_count": 6,
   "metadata": {},
   "outputs": [
    {
     "name": "stdout",
     "output_type": "stream",
     "text": [
      "dims: 80491, num_docs: 2726\n"
     ]
    }
   ],
   "source": [
    "tokenizer = TfIdfTokenizer()\n",
    "Aik = tokenizer.fit(texts)\n",
    "print(tokenizer)"
   ]
  },
  {
   "cell_type": "code",
   "execution_count": 7,
   "metadata": {},
   "outputs": [
    {
     "name": "stdout",
     "output_type": "stream",
     "text": [
      "shape of tf-idf matrix: (2726, 80491)\n",
      "rate of 0 in matrix 0.9977799954175234\n"
     ]
    }
   ],
   "source": [
    "print(\"shape of tf-idf matrix:\", Aik.shape)\n",
    "print(\"rate of 0 in matrix\",np.sum(Aik == 0)/Aik.size)"
   ]
  },
  {
   "cell_type": "code",
   "execution_count": 8,
   "metadata": {},
   "outputs": [],
   "source": [
    "np.savez(\"tfidf.npz\", X=Aik)"
   ]
  },
  {
   "cell_type": "code",
   "execution_count": 9,
   "metadata": {},
   "outputs": [],
   "source": [
    "class TfIdfMaxdim(TfIdfTokenizer):\n",
    "    def __init__(self, max_features=5000) -> None:\n",
    "        super().__init__()\n",
    "        self.max_features = max_features\n",
    "        self._term_freq = {}\n",
    "    \n",
    "    def update_vocab(self, docs):\n",
    "        for doc in docs:\n",
    "            self.num_docs += 1\n",
    "            words = set(doc)    # keep unique words\n",
    "            for w in words:\n",
    "                # for a word, count the num of documents that contain it\n",
    "                self.document_freq[w] = self.document_freq.get(w, 0) + 1\n",
    "                self._term_freq[w] = self._term_freq.get(w, 0) + doc.count(w)\n",
    "        # sort by term frequency and select top max_features\n",
    "        self.term_freq = dict(sorted(self._term_freq.items(), key=lambda x: x[1], reverse=True)[:self.max_features])\n",
    "        self.document_freq = {k:self.document_freq[k] for k in self.term_freq.keys()}\n",
    "        self.vocab_table = {w: i for i, w in enumerate(\n",
    "            self.document_freq.keys())}  # word to index table\n",
    "        self.dims = len(self.document_freq)  # number of unique words\n",
    "    \n",
    "    def get_term_freq(self):\n",
    "        return dict(sorted(self._term_freq.items(), key=lambda x: x[1], reverse=True))\n",
    "    \n",
    "    def fit(self, docs):\n",
    "        self.update_vocab(docs)\n",
    "        idfs = self._idfs()\n",
    "        word_freq = np.zeros((self.num_docs, self.dims)\n",
    "                             )    # word frequency array\n",
    "        for i, doc in enumerate(docs):\n",
    "            for word in doc:\n",
    "                dim_idx = self.vocab_table.get(word, None)  # get index of word\n",
    "                if dim_idx is not None:\n",
    "                    word_freq[i, dim_idx] += 1   # count\n",
    "        # calculate frequency\n",
    "        tf = word_freq / word_freq.sum(axis=1, keepdims=True)\n",
    "\n",
    "        tf_idf = np.log(tf + 1) * idfs  # calculate tf-idf\n",
    "        # normalize the representation\n",
    "        tf_idf = tf_idf / np.sum(tf_idf**2, axis=1, keepdims=True)**0.5\n",
    "        \n",
    "        # print(np.sum(tf_idf == 0)/tf_idf.size)\n",
    "        # print(self.dims)\n",
    "\n",
    "        return tf_idf"
   ]
  },
  {
   "cell_type": "code",
   "execution_count": 10,
   "metadata": {},
   "outputs": [
    {
     "name": "stdout",
     "output_type": "stream",
     "text": [
      "tokenizer: dims: 5000, num_docs: 2726\n",
      "shape of tf-idf matrix: (2726, 5000)\n",
      "rate of 0 in matrix 0.9757177549523111\n"
     ]
    }
   ],
   "source": [
    "tokenizer = TfIdfMaxdim(max_features=5000)\n",
    "Aik = tokenizer.fit(texts)\n",
    "print(\"tokenizer:\", tokenizer)\n",
    "print(\"shape of tf-idf matrix:\", Aik.shape)\n",
    "print(\"rate of 0 in matrix\",np.sum(Aik == 0)/Aik.size)\n",
    "np.savez(\"tfidf_maxdim.npz\", X=Aik)"
   ]
  }
 ],
 "metadata": {
  "kernelspec": {
   "display_name": "nlp",
   "language": "python",
   "name": "python3"
  },
  "language_info": {
   "codemirror_mode": {
    "name": "ipython",
    "version": 3
   },
   "file_extension": ".py",
   "mimetype": "text/x-python",
   "name": "python",
   "nbconvert_exporter": "python",
   "pygments_lexer": "ipython3",
   "version": "3.12.7"
  }
 },
 "nbformat": 4,
 "nbformat_minor": 2
}
